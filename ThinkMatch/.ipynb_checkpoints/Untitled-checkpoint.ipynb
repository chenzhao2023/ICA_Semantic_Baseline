{
 "cells": [
  {
   "cell_type": "code",
   "execution_count": 14,
   "id": "f09365e6",
   "metadata": {},
   "outputs": [],
   "source": [
    "import networkx as nx\n",
    "import numpy as np\n",
    "import cv2\n",
    "import os\n",
    "import argparse\n",
    "import pickle\n",
    "import matplotlib.pyplot as plt\n",
    "\n",
    "from artery.Artery import SEMANTIC_MAPPING\n",
    "from tqdm import tqdm\n",
    "from artery.data_augmentation import *"
   ]
  },
  {
   "cell_type": "code",
   "execution_count": 29,
   "id": "ddb3d9a4",
   "metadata": {},
   "outputs": [],
   "source": [
    "class ArteryAugmentationFlow:\n",
    "    def __init__(self, g, original_image, params):\n",
    "        self.g = g\n",
    "        self.original_image = original_image\n",
    "        self.params = params\n",
    "    \n",
    "    def augment(self):\n",
    "        # 1. blur image\n",
    "        if np.random.rand() < self.params.blur:\n",
    "            self.original_image = gaussian_blur(self.original_image)\n",
    "            add_vessel_image(self.g, original_image)\n",
    "\n",
    "        # 2. trim graph\n",
    "        if np.random.rand() < self.params.trim:\n",
    "            self.g, removed_nodes = trim_graph(self.g, self.params.trim)\n",
    "            print(f\"graph trim, removed nodes = {removed_nodes}\")\n",
    "        \n",
    "        # 3. rotate graph\n",
    "        for n in self.g.nodes:\n",
    "            if np.random.rand() < self.params.rotate:\n",
    "                angle = np.random.randint(args.rotate_angle) if np.random.randint(2) else -np.random.randint(args.rotate_angle)\n",
    "                adjusted_angle = check_rotate(self.g, self.g.nodes[n]['data'].vessel_class, angle)\n",
    "                print(f\"rotate artery: {self.g.nodes[n]['data'].vessel_class}, random = {angle}, adjusted = {adjusted_angle}\")\n",
    "                rotate_artery(self.g, self.g.nodes[n]['data'].vessel_class, adjusted_angle)\n",
    "\n",
    "        # 4. resize\n",
    "        if np.random.rand() < self.params.resize:\n",
    "            factor_offset = np.random.uniform(0, self.params.resize_factor)  \n",
    "            factor = 1.0+factor_offset if np.random.randint(2) else 1.0-factor_offset\n",
    "            adjusted_factor = check_resize(self.g, \"LMA\", factor)\n",
    "            print(f\"raw factor = {factor}, adjusted factor = {adjusted_factor}\")\n",
    "            resize_branch(self.g, \"LMA\", adjusted_factor)\n",
    "\n",
    "        return self.g, self.original_image"
   ]
  },
  {
   "cell_type": "code",
   "execution_count": 20,
   "id": "769749c4",
   "metadata": {},
   "outputs": [],
   "source": [
    "def rotate_artery(g, branch_name, degree):\n",
    "    # 1. make a binary image for set of artery branch\n",
    "    vessel_segment, node_idx = _find_branch_data_(g, branch_name)\n",
    "    assert node_idx != -1\n",
    "    \n",
    "    # 2. rotate vessel_segment data\n",
    "    # 2.1 find rotation pivot\n",
    "    pivot, _ = _find_pivot_point_(g, branch_name)\n",
    "\n",
    "    # 2.2 rotate current segment\n",
    "\n",
    "    new_artery_mask = _rotate_image_(vessel_segment.vessel_mask, degree, pivot)\n",
    "    new_artery_img = _rotate_image_(vessel_segment.vessel_image, degree, pivot)\n",
    "    new_artery_centerline = _rotate_image_(vessel_segment.vessel_centerline, degree, pivot)\n",
    "    # rotate image\n",
    "    vessel_segment.vessel_mask = new_artery_mask\n",
    "    vessel_segment.vessel_image = new_artery_img\n",
    "    vessel_segment.vessel_centerline = new_artery_centerline\n",
    "    # rotate point\n",
    "    # def rotate_point(point, angle, pivot, img_size):\n",
    "    new_point1 = _rotate_point_((vessel_segment.node1.x, vessel_segment.node1.y), degree, pivot, 512)\n",
    "    vessel_segment.node1.x, vessel_segment.node1.y = new_point1[0], new_point1[1]\n",
    "    \n",
    "    new_point2 = _rotate_point_((vessel_segment.node2.x, vessel_segment.node2.y), degree, pivot, 512) \n",
    "    vessel_segment.node2.x, vessel_segment.node2.y = new_point2[0], new_point2[1]\n",
    "\n",
    "    # 2.3 rotate each child coronay artery branch\n",
    "    for child in children_table[branch_name]:\n",
    "        child_segment, node_idx = _find_branch_data_(g, child)\n",
    "        if node_idx!= -1:\n",
    "            # rotate point\n",
    "            new_point1 = _rotate_point_((child_segment.node1.x, child_segment.node1.y), degree, pivot, 512) \n",
    "            child_segment.node1.x, child_segment.node1.y = new_point1[0], new_point1[1]\n",
    "            new_point2 = _rotate_point_((child_segment.node2.x, child_segment.node2.y), degree, pivot, 512) \n",
    "            child_segment.node2.x, child_segment.node2.y = new_point2[0], new_point2[1]\n",
    "\n",
    "            # rotate image\n",
    "            new_artery_mask = _rotate_image_(child_segment.vessel_mask, degree, pivot)\n",
    "            new_artery_img = _rotate_image_(child_segment.vessel_image, degree, pivot)\n",
    "            new_artery_centerline = _rotate_image_(child_segment.vessel_centerline, degree, pivot)\n",
    "\n",
    "            child_segment.vessel_mask = new_artery_mask\n",
    "            child_segment.vessel_image = new_artery_img\n",
    "            child_segment.vessel_centerline = new_artery_centerline"
   ]
  },
  {
   "cell_type": "code",
   "execution_count": 27,
   "id": "e2f253d8",
   "metadata": {},
   "outputs": [],
   "source": [
    "base_path = \"/media/z/data21/artery_semantic_segmentation\"\n",
    "data_path = \"gmn_vessel/data/data_tw_semantic/processed\"\n",
    "image_size = 512\n",
    "project_path = \"ThinkMatch\"\n",
    "\n",
    "selected_sample_name = \"B01_LCA_LAO\"\n",
    "\n",
    "binary_image = cv2.imread(f\"{base_path}/{data_path}/{selected_sample_name}/{selected_sample_name}_binary_image.png\", cv2.IMREAD_GRAYSCALE)\n",
    "original_image = cv2.imread(f\"{base_path}/{data_path}/{selected_sample_name}/{selected_sample_name}.png\",  cv2.IMREAD_GRAYSCALE)\n",
    "\n",
    "pkl_file_path = f\"{base_path}/{data_path}/{selected_sample_name}/{selected_sample_name}_g_switch_unique.pkl\"\n",
    "g_switch= pickle.load(open(pkl_file_path, 'rb'))\n",
    "\n",
    "pkl_file_path = f\"{base_path}/{data_path}/{selected_sample_name}/{selected_sample_name}.pkl\"\n",
    "g = pickle.load(open(pkl_file_path, 'rb'))\n",
    "\n",
    "\n",
    "# show original image\n",
    "g_switch = add_vessel_image(g_switch, original_image)\n",
    "assign_new_obj_to_node(g_switch)\n",
    "\n",
    "rotate_artery(g_switch, \"LMA\", 10)\n",
    "# rotate_artery(g_switch, \"LCX2\", -20)"
   ]
  },
  {
   "cell_type": "code",
   "execution_count": 28,
   "id": "31e24767",
   "metadata": {},
   "outputs": [
    {
     "data": {
      "text/plain": [
       "<matplotlib.image.AxesImage at 0x7f7dc4c43700>"
      ]
     },
     "execution_count": 28,
     "metadata": {},
     "output_type": "execute_result"
    },
    {
     "data": {
      "image/png": "[encoded data removed]",
      "text/plain": [
       "<Figure size 640x480 with 1 Axes>"
      ]
     },
     "metadata": {},
     "output_type": "display_data"
    }
   ],
   "source": [
    "import matplotlib.pyplot as plt\n",
    "artery_img = visualize_semantic_cv2(g_switch, np.zeros([512, 512], dtype=np.uint8), SEMANTIC_MAPPING)\n",
    "plt.imshow(artery_img)"
   ]
  },
  {
   "cell_type": "code",
   "execution_count": null,
   "id": "c19bec8b",
   "metadata": {},
   "outputs": [],
   "source": []
  }
 ],
 "metadata": {
  "kernelspec": {
   "display_name": "torch",
   "language": "python",
   "name": "torch"
  },
  "language_info": {
   "codemirror_mode": {
    "name": "ipython",
    "version": 3
   },
   "file_extension": ".py",
   "mimetype": "text/x-python",
   "name": "python",
   "nbconvert_exporter": "python",
   "pygments_lexer": "ipython3",
   "version": "3.8.16"
  }
 },
 "nbformat": 4,
 "nbformat_minor": 5
}
